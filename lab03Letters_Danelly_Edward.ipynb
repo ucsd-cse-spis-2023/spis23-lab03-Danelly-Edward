{
  "nbformat": 4,
  "nbformat_minor": 0,
  "metadata": {
    "colab": {
      "provenance": [],
      "authorship_tag": "ABX9TyM41lM7bonF8UKDJlZgu9co",
      "include_colab_link": true
    },
    "kernelspec": {
      "name": "python3",
      "display_name": "Python 3"
    },
    "language_info": {
      "name": "python"
    }
  },
  "cells": [
    {
      "cell_type": "markdown",
      "metadata": {
        "id": "view-in-github",
        "colab_type": "text"
      },
      "source": [
        "<a href=\"https://colab.research.google.com/github/ucsd-cse-spis-2023/spis23-lab03-Danelly-Edward/blob/main/lab03Letters_Danelly_Edward.ipynb\" target=\"_parent\"><img src=\"https://colab.research.google.com/assets/colab-badge.svg\" alt=\"Open In Colab\"/></a>"
      ]
    },
    {
      "cell_type": "markdown",
      "source": [
        "Step 2.0"
      ],
      "metadata": {
        "id": "gloRlr_fKXc0"
      }
    },
    {
      "cell_type": "markdown",
      "source": [
        "1. The anonymous turtle is the turtle that Python automatically creates for you.\n",
        "\n",
        "2. The difference between my_turtle and Turtle() is that my_turtle is a reference to the Turtle object.\n",
        "\n",
        "3. my_turtle.sety(100)"
      ],
      "metadata": {
        "id": "JReQBxEqHaCv"
      }
    },
    {
      "cell_type": "markdown",
      "source": [
        "Step 2.1"
      ],
      "metadata": {
        "id": "NpZxy_Q2KcW2"
      }
    },
    {
      "cell_type": "code",
      "source": [
        "!pip install ColabTurtlePlus"
      ],
      "metadata": {
        "colab": {
          "base_uri": "https://localhost:8080/"
        },
        "id": "S60Ai3V1LMxi",
        "outputId": "118cf096-9558-4d41-a701-ec2feddd2ec2"
      },
      "execution_count": 2,
      "outputs": [
        {
          "output_type": "stream",
          "name": "stdout",
          "text": [
            "Collecting ColabTurtlePlus\n",
            "  Downloading ColabTurtlePlus-2.0.1-py3-none-any.whl (31 kB)\n",
            "Installing collected packages: ColabTurtlePlus\n",
            "Successfully installed ColabTurtlePlus-2.0.1\n"
          ]
        }
      ]
    },
    {
      "cell_type": "code",
      "source": [
        "from ColabTurtlePlus.Turtle import *"
      ],
      "metadata": {
        "colab": {
          "base_uri": "https://localhost:8080/"
        },
        "id": "-Hmx8AzFLMGj",
        "outputId": "667487b1-0b37-41ae-88e2-b3ad897eb7af"
      },
      "execution_count": 3,
      "outputs": [
        {
          "output_type": "stream",
          "name": "stdout",
          "text": [
            "Put clearscreen() as the first line in a cell (after the import command) to re-run turtle commands in the cell\n"
          ]
        }
      ]
    },
    {
      "cell_type": "code",
      "execution_count": 14,
      "metadata": {
        "colab": {
          "base_uri": "https://localhost:8080/",
          "height": 621
        },
        "id": "7bODElq3GZVI",
        "outputId": "09d5d784-8030-42d1-9b1a-8bb66d11a7d1"
      },
      "outputs": [
        {
          "output_type": "display_data",
          "data": {
            "text/plain": [
              "<IPython.core.display.HTML object>"
            ],
            "text/html": [
              "\n",
              "      <svg width=\"800\" height=\"600\">  \n",
              "        <rect width=\"100%\" height=\"100%\" style=\"fill:white;stroke:;stroke-width:1\"/>\n",
              "        \n",
              "        \n",
              "        <line x1=\"400.0\" y1=\"100.0\" x2=\"600.0\" y2=\"100.0\" stroke-linecap=\"round\" style=\"stroke:black;stroke-width:1\" /><line x1=\"600.0\" y1=\"100.0\" x2=\"400.0\" y2=\"100.0\" stroke-linecap=\"round\" style=\"stroke:black;stroke-width:1\" /><line x1=\"400.0\" y1=\"100.0\" x2=\"400.0\" y2=\"300.0\" stroke-linecap=\"round\" style=\"stroke:black;stroke-width:1\" /><line x1=\"400.0\" y1=\"300.0\" x2=\"500.0\" y2=\"300.0\" stroke-linecap=\"round\" style=\"stroke:black;stroke-width:1\" /><line x1=\"500.0\" y1=\"300.0\" x2=\"400.0\" y2=\"300.0\" stroke-linecap=\"round\" style=\"stroke:black;stroke-width:1\" /><line x1=\"400.0\" y1=\"300.0\" x2=\"400.0\" y2=\"500.0\" stroke-linecap=\"round\" style=\"stroke:black;stroke-width:1\" /><line x1=\"400.0\" y1=\"500.0\" x2=\"410.0\" y2=\"500.0\" stroke-linecap=\"round\" style=\"stroke:black;stroke-width:1\" /><line x1=\"410.0\" y1=\"500.0\" x2=\"420.0\" y2=\"500.0\" stroke-linecap=\"round\" style=\"stroke:black;stroke-width:1\" /><line x1=\"420.0\" y1=\"500.0\" x2=\"430.0\" y2=\"500.0\" stroke-linecap=\"round\" style=\"stroke:black;stroke-width:1\" /><line x1=\"430.0\" y1=\"500.0\" x2=\"440.0\" y2=\"500.0\" stroke-linecap=\"round\" style=\"stroke:black;stroke-width:1\" /><line x1=\"440.0\" y1=\"500.0\" x2=\"450.0\" y2=\"500.0\" stroke-linecap=\"round\" style=\"stroke:black;stroke-width:1\" /><line x1=\"450.0\" y1=\"500.0\" x2=\"460.0\" y2=\"500.0\" stroke-linecap=\"round\" style=\"stroke:black;stroke-width:1\" /><line x1=\"460.0\" y1=\"500.0\" x2=\"470.0\" y2=\"500.0\" stroke-linecap=\"round\" style=\"stroke:black;stroke-width:1\" /><line x1=\"470.0\" y1=\"500.0\" x2=\"480.0\" y2=\"500.0\" stroke-linecap=\"round\" style=\"stroke:black;stroke-width:1\" /><line x1=\"480.0\" y1=\"500.0\" x2=\"490.0\" y2=\"500.0\" stroke-linecap=\"round\" style=\"stroke:black;stroke-width:1\" /><line x1=\"490.0\" y1=\"500.0\" x2=\"500.0\" y2=\"500.0\" stroke-linecap=\"round\" style=\"stroke:black;stroke-width:1\" /><line x1=\"500.0\" y1=\"500.0\" x2=\"510.0\" y2=\"500.0\" stroke-linecap=\"round\" style=\"stroke:black;stroke-width:1\" /><line x1=\"510.0\" y1=\"500.0\" x2=\"520.0\" y2=\"500.0\" stroke-linecap=\"round\" style=\"stroke:black;stroke-width:1\" /><line x1=\"520.0\" y1=\"500.0\" x2=\"530.0\" y2=\"500.0\" stroke-linecap=\"round\" style=\"stroke:black;stroke-width:1\" /><line x1=\"530.0\" y1=\"500.0\" x2=\"540.0\" y2=\"500.0\" stroke-linecap=\"round\" style=\"stroke:black;stroke-width:1\" /><line x1=\"540.0\" y1=\"500.0\" x2=\"550.0\" y2=\"500.0\" stroke-linecap=\"round\" style=\"stroke:black;stroke-width:1\" /><line x1=\"550.0\" y1=\"500.0\" x2=\"560.0\" y2=\"500.0\" stroke-linecap=\"round\" style=\"stroke:black;stroke-width:1\" /><line x1=\"560.0\" y1=\"500.0\" x2=\"570.0\" y2=\"500.0\" stroke-linecap=\"round\" style=\"stroke:black;stroke-width:1\" /><line x1=\"570.0\" y1=\"500.0\" x2=\"580.0\" y2=\"500.0\" stroke-linecap=\"round\" style=\"stroke:black;stroke-width:1\" /><line x1=\"580.0\" y1=\"500.0\" x2=\"590.0\" y2=\"500.0\" stroke-linecap=\"round\" style=\"stroke:black;stroke-width:1\" /><line x1=\"590.0\" y1=\"500.0\" x2=\"600.0\" y2=\"500.0\" stroke-linecap=\"round\" style=\"stroke:black;stroke-width:1\" />\n",
              "        \n",
              "        \n",
              "        <g id=\"classic\" visibility=\"visible\" transform=\"rotate(-90,600.0,500.0) translate(600.0, 500.0)\">\n",
              "<polygon points=\"-5,-4.5 0,-2.5 5,-4.5 0,4.5\" transform=\"skewX(0) scale(1,1)\" style=\"stroke:black;fill:black;stroke-width:1\" />\n",
              "</g>\n",
              "      </svg>\n",
              "    "
            ]
          },
          "metadata": {}
        }
      ],
      "source": [
        "clearscreen()\n",
        "def draw_E(the_turtle, size):\n",
        "\n",
        "  the_turtle.penup()\n",
        "\n",
        "  the_turtle.setpos(0,200)\n",
        "\n",
        "  the_turtle.pendown()\n",
        "\n",
        "  the_turtle.forward(100 * size)\n",
        "\n",
        "  the_turtle.backward(100 * size)\n",
        "\n",
        "  the_turtle.right(90)\n",
        "\n",
        "  the_turtle.forward(100 * size)\n",
        "\n",
        "  the_turtle.left(90)\n",
        "\n",
        "  the_turtle.forward(50 * size)\n",
        "\n",
        "  the_turtle.backward(50 * size)\n",
        "\n",
        "  the_turtle.right(90)\n",
        "\n",
        "  the_turtle.forward(100 * size)\n",
        "\n",
        "  the_turtle.left(90)\n",
        "\n",
        "  the_turtle.forward(100 * size)\n",
        "\n",
        "the_turtle = Turtle()\n",
        "draw_E(the_turtle, 2)"
      ]
    },
    {
      "cell_type": "code",
      "source": [],
      "metadata": {
        "id": "zVV9IB6-LE30"
      },
      "execution_count": null,
      "outputs": []
    }
  ]
}