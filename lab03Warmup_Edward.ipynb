{
  "nbformat": 4,
  "nbformat_minor": 0,
  "metadata": {
    "colab": {
      "provenance": [],
      "authorship_tag": "ABX9TyPAiCboTf0dKu2hKCBcPH8P",
      "include_colab_link": true
    },
    "kernelspec": {
      "name": "python3",
      "display_name": "Python 3"
    },
    "language_info": {
      "name": "python"
    }
  },
  "cells": [
    {
      "cell_type": "markdown",
      "metadata": {
        "id": "view-in-github",
        "colab_type": "text"
      },
      "source": [
        "<a href=\"https://colab.research.google.com/github/ucsd-cse-spis-2023/spis23-lab03-Danelly-Edward/blob/main/lab03Warmup_Edward.ipynb\" target=\"_parent\"><img src=\"https://colab.research.google.com/assets/colab-badge.svg\" alt=\"Open In Colab\"/></a>"
      ]
    },
    {
      "cell_type": "markdown",
      "source": [
        "Edward Lee\n",
        "This notebook will have a program that will draw an E, the first initial of my name."
      ],
      "metadata": {
        "id": "Fjy_Ej6Gu-r6"
      }
    },
    {
      "cell_type": "code",
      "source": [
        "!pip install ColabTurtlePlus"
      ],
      "metadata": {
        "colab": {
          "base_uri": "https://localhost:8080/"
        },
        "id": "_Y6oTjSVvLEQ",
        "outputId": "57af0392-c99d-433a-e145-f55d2e63e112"
      },
      "execution_count": 1,
      "outputs": [
        {
          "output_type": "stream",
          "name": "stdout",
          "text": [
            "Collecting ColabTurtlePlus\n",
            "  Downloading ColabTurtlePlus-2.0.1-py3-none-any.whl (31 kB)\n",
            "Installing collected packages: ColabTurtlePlus\n",
            "Successfully installed ColabTurtlePlus-2.0.1\n"
          ]
        }
      ]
    },
    {
      "cell_type": "code",
      "source": [
        "from ColabTurtlePlus.Turtle import *"
      ],
      "metadata": {
        "colab": {
          "base_uri": "https://localhost:8080/"
        },
        "id": "oaDZ2r8vvNMX",
        "outputId": "f55f43b0-4d89-40dd-e074-8a5336ac111a"
      },
      "execution_count": 2,
      "outputs": [
        {
          "output_type": "stream",
          "name": "stdout",
          "text": [
            "Put clearscreen() as the first line in a cell (after the import command) to re-run turtle commands in the cell\n"
          ]
        }
      ]
    },
    {
      "cell_type": "code",
      "source": [
        "clearscreen()\n",
        "def draw_picture(the_turtle):\n",
        "\n",
        "    ''' Draw a simple picture using a turtle '''\n",
        "\n",
        "    the_turtle.forward(50)\n",
        "\n",
        "    the_turtle.left(70)\n",
        "\n",
        "    the_turtle.forward(100)\n",
        "\n",
        "    the_turtle.left(90)\n",
        "\n",
        "    the_turtle.forward(100)\n",
        "\n",
        "    the_turtle.left(90)\n",
        "\n",
        "    the_turtle.forward(100)\n",
        "\n",
        "    the_turtle.left(90)\n",
        "\n",
        "\n",
        "\n",
        "my_turtle = Turtle()      # Create a new Turtle object\n",
        "\n",
        "my_turtle.speed(4)\n",
        "\n",
        "draw_picture(my_turtle)   # make the new Turtle draw the shape\n",
        "\n",
        "turtle1 = Turtle()\n",
        "\n",
        "turtle2 = Turtle()\n",
        "\n",
        "turtle1.speed(4)          # how fast the Turtle moves\n",
        "\n",
        "turtle2.speed(4)\n",
        "\n",
        "turtle1.setpos(-50, -50)  # the Turtle moves to this position\n",
        "\n",
        "turtle2.setpos(200, 100)\n",
        "\n",
        "turtle1.forward(100)      # the Turtle moves in the position that it is currently facing (it starts facing right)\n",
        "\n",
        "turtle2.left(90)          # the Turtle turns left however many degrees\n",
        "\n",
        "turtle2.forward(100)"
      ],
      "metadata": {
        "colab": {
          "base_uri": "https://localhost:8080/",
          "height": 621
        },
        "id": "pJSIUiK3vT-m",
        "outputId": "56c83c0a-1a87-4376-ad5d-3f75a429c467"
      },
      "execution_count": 19,
      "outputs": [
        {
          "output_type": "display_data",
          "data": {
            "text/plain": [
              "<IPython.core.display.HTML object>"
            ],
            "text/html": [
              "\n",
              "      <svg width=\"800\" height=\"600\">  \n",
              "        <rect width=\"100%\" height=\"100%\" style=\"fill:white;stroke:;stroke-width:1\"/>\n",
              "        \n",
              "        \n",
              "        <line x1=\"400.0\" y1=\"300.0\" x2=\"450.0\" y2=\"300.0\" stroke-linecap=\"round\" style=\"stroke:black;stroke-width:1\" /><line x1=\"450.0\" y1=\"300.0\" x2=\"484.202\" y2=\"206.031\" stroke-linecap=\"round\" style=\"stroke:black;stroke-width:1\" /><line x1=\"484.202\" y1=\"206.031\" x2=\"390.233\" y2=\"171.829\" stroke-linecap=\"round\" style=\"stroke:black;stroke-width:1\" /><line x1=\"390.233\" y1=\"171.829\" x2=\"356.031\" y2=\"265.798\" stroke-linecap=\"round\" style=\"stroke:black;stroke-width:1\" /><line x1=\"400.0\" y1=\"300.0\" x2=\"350.0\" y2=\"350.0\" stroke-linecap=\"round\" style=\"stroke:black;stroke-width:1\" /><line x1=\"350.0\" y1=\"350.0\" x2=\"450.0\" y2=\"350.0\" stroke-linecap=\"round\" style=\"stroke:black;stroke-width:1\" /><line x1=\"400.0\" y1=\"300.0\" x2=\"600.0\" y2=\"200.0\" stroke-linecap=\"round\" style=\"stroke:black;stroke-width:1\" /><line x1=\"600.0\" y1=\"200.0\" x2=\"600.0\" y2=\"190.0\" stroke-linecap=\"round\" style=\"stroke:black;stroke-width:1\" /><line x1=\"600.0\" y1=\"190.0\" x2=\"600.0\" y2=\"180.0\" stroke-linecap=\"round\" style=\"stroke:black;stroke-width:1\" /><line x1=\"600.0\" y1=\"180.0\" x2=\"600.0\" y2=\"170.0\" stroke-linecap=\"round\" style=\"stroke:black;stroke-width:1\" /><line x1=\"600.0\" y1=\"170.0\" x2=\"600.0\" y2=\"160.0\" stroke-linecap=\"round\" style=\"stroke:black;stroke-width:1\" /><line x1=\"600.0\" y1=\"160.0\" x2=\"600.0\" y2=\"150.0\" stroke-linecap=\"round\" style=\"stroke:black;stroke-width:1\" /><line x1=\"600.0\" y1=\"150.0\" x2=\"600.0\" y2=\"140.0\" stroke-linecap=\"round\" style=\"stroke:black;stroke-width:1\" /><line x1=\"600.0\" y1=\"140.0\" x2=\"600.0\" y2=\"130.0\" stroke-linecap=\"round\" style=\"stroke:black;stroke-width:1\" /><line x1=\"600.0\" y1=\"130.0\" x2=\"600.0\" y2=\"120.0\" stroke-linecap=\"round\" style=\"stroke:black;stroke-width:1\" /><line x1=\"600.0\" y1=\"120.0\" x2=\"600.0\" y2=\"110.0\" stroke-linecap=\"round\" style=\"stroke:black;stroke-width:1\" /><line x1=\"600.0\" y1=\"110.0\" x2=\"600.0\" y2=\"100.0\" stroke-linecap=\"round\" style=\"stroke:black;stroke-width:1\" />\n",
              "        \n",
              "        \n",
              "        <g id=\"classic\" visibility=\"visible\" transform=\"rotate(-70,356.031,265.798) translate(356.031, 265.798)\">\n",
              "<polygon points=\"-5,-4.5 0,-2.5 5,-4.5 0,4.5\" transform=\"skewX(0) scale(1,1)\" style=\"stroke:black;fill:black;stroke-width:1\" />\n",
              "</g><g id=\"classic\" visibility=\"visible\" transform=\"rotate(-90,450.0,350.0) translate(450.0, 350.0)\">\n",
              "<polygon points=\"-5,-4.5 0,-2.5 5,-4.5 0,4.5\" transform=\"skewX(0) scale(1,1)\" style=\"stroke:black;fill:black;stroke-width:1\" />\n",
              "</g><g id=\"classic\" visibility=\"visible\" transform=\"rotate(180,600.0,100.0) translate(600.0, 100.0)\">\n",
              "<polygon points=\"-5,-4.5 0,-2.5 5,-4.5 0,4.5\" transform=\"skewX(0) scale(1,1)\" style=\"stroke:black;fill:black;stroke-width:1\" />\n",
              "</g>\n",
              "      </svg>\n",
              "    "
            ]
          },
          "metadata": {}
        }
      ]
    },
    {
      "cell_type": "code",
      "source": [],
      "metadata": {
        "id": "6CSI4cNtvjkX"
      },
      "execution_count": 16,
      "outputs": []
    }
  ]
}